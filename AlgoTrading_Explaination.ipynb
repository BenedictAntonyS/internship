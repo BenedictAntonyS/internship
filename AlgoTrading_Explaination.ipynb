{
  "nbformat": 4,
  "nbformat_minor": 0,
  "metadata": {
    "colab": {
      "provenance": []
    },
    "kernelspec": {
      "name": "python3",
      "display_name": "Python 3"
    },
    "language_info": {
      "name": "python"
    }
  },
  "cells": [
    {
      "cell_type": "markdown",
      "metadata": {},
      "source": [
        "# Algorithmic Trading Prototype with Machine Learning and Google Sheets Integration\n",
        "\n",
        "## Introduction\n",
        "This Jupyter Notebook implements an algorithmic trading prototype that fetches stock data for three NIFTY 50 stocks (`INFY.NS`, `TCS.NS`, `HDFCBANK.NS`), generates buy/sell signals using a rule-based strategy (RSI < 30 with 20-DMA > 50-DMA), applies machine learning models (Logistic Regression and Decision Tree) to predict price movements, and logs trade details and portfolio analytics to Google Sheets. The goal is to demonstrate a modular, robust trading system with error handling and potential for real-time enhancements like Telegram notifications.\n",
        "\n",
        "## Objectives\n",
        "- **Data Fetching**: Retrieve 6 months of daily OHLCV data for specified stocks using `yfinance`.\n",
        "- **Rule-Based Strategy**: Generate buy signals when RSI < 30 and 20-DMA > 50-DMA, sell when RSI > 70 or 20-DMA < 50-DMA, backtested over 6 months.\n",
        "- **Machine Learning**: Train Logistic Regression and Decision Tree models to predict next-day price direction using RSI, 20-DMA, 50-DMA, and Volume.\n",
        "- **Portfolio Analytics**: Log trade details (Buy Date, Buy Price, Sell Date, Sell Price, P&L, Win) and summary metrics (Total Trades, Total P&L, Win Ratio) to Google Sheets.\n",
        "- **Error Handling**: Ensure robustness with try-except blocks.\n",
        "- **Extensibility**: Support future enhancements like Telegram notifications.\n",
        "\n",
        "## Structure\n",
        "The notebook is organized as follows:\n",
        "- **Setup**: Install dependencies and import libraries.\n",
        "- **Data Fetching**: Retrieve stock data using `yfinance`.\n",
        "- **Indicators and Backtesting**: Compute technical indicators (RSI, DMAs) and backtest the strategy (assumed functions).\n",
        "- **Machine Learning**: Train and evaluate ML models.\n",
        "- **Google Sheets Integration**: Log trades and summaries.\n",
        "- **Main Workflow**: Orchestrate the full algo run.\n",
        "\n",
        "This notebook preserves the original code from `AlgoTrading.ipynb` and adds detailed explanations for each cell, acting as a textbook for understanding the system. Missing functions (`add_indicators_manual`, `backtest_strategy`) are explained with suggested implementations at the end.\n"
      ]
    },
    {
      "cell_type": "markdown",
      "metadata": {},
      "source": [
        "## 1. Installing Dependencies\n",
        "\n",
        "### Purpose\n",
        "This cell installs the required Python libraries for the trading system:\n",
        "- `yfinance`: Fetches historical stock data from Yahoo Finance.\n",
        "- `pandas`: Handles data manipulation and storage in DataFrames.\n",
        "- `numpy`: Supports numerical computations for indicators.\n",
        "- `scikit-learn`: Provides machine learning models (Logistic Regression, Decision Tree).\n",
        "- `gspread` and `oauth2client`: Enable Google Sheets integration for logging results.\n",
        "\n",
        "### Why It’s Important\n",
        "These libraries form the backbone of the system, enabling data retrieval, analysis, ML predictions, and result logging. Running this in a fresh environment (e.g., Google Colab) ensures all dependencies are available.\n",
        "\n",
        "### Original Code
      ]
    },
    {
      "cell_type": "code",
      "metadata": {
        "colab": {
          "base_uri": "https://localhost:8080/"
        },
        "id": "_7BfhO-B3RlC",
        "outputId": "3f345bf5-4894-4923-a549-73ffb6e7e0f1"
      },
      "source": [
        "!pip install yfinance pandas numpy scikit-learn gspread oauth2client"
      ],
      "execution_count": null,
      "outputs": []
    },
    {
      "cell_type": "markdown",
      "metadata": {},
      "source": [
        "## 2. Fetching Stock Data\n",
        "\n",
        "### Purpose\n",
        "This cell fetches 6 months of daily OHLCV (Open, High, Low, Close, Volume) data for three NIFTY 50 stocks (`INFY.NS`, `TCS.NS`, `HDFCBANK.NS`) using the `yfinance` library. It sets up the data foundation for the trading strategy and ML models.\n",
        "\n",
        "### Key Concepts\n",
        "- **NIFTY 50**: A benchmark Indian stock market index representing 50 major companies. The `.NS` suffix denotes stocks listed on the National Stock Exchange (NSE).\n",
        "- **OHLCV Data**: Daily stock data includes:\n",
        "  - **Open**: Price at market open.\n",
        "  - **High**: Highest price during the day.\n",
        "  - **Low**: Lowest price during the day.\n",
        "  - **Close**: Price at market close.\n",
        "  - **Volume**: Number of shares traded.\n",
        "- **Date Range**: The code uses `datetime` to set a 6-month period (180 days) from the current date, ensuring sufficient data for backtesting and ML training.\n",
        "- **Error Handling**: The `dropna` method removes missing values to ensure data quality.\n",
        "\n",
        "### Original Code
      ]
    },
    {
      "cell_type": "code",
      "metadata": {
        "colab": {
          "base_uri": "https://localhost:8080/",
          "height": 1000
        },
        "id": "NmS-uPmc2M9j",
        "outputId": "70a2da5a-fab9-4c17-f1fa-f7cc39a08610"
      },
      "source": [
        "import yfinance as yf\n",
        "import pandas as pd\n",
        "from datetime import datetime, timedelta\n",
        "\n",
        "# List of 3 NIFTY 50 stocks\n",
        "stocks = ['INFY.NS','TCS.NS', 'HDFCBANK.NS']\n",
        "\n",
        "# Define date range: last 6 months\n",
        "end_date = datetime.today()\n",
        "start_date = end_date - timedelta(days=180)\n",
        "\n",
        "# Download daily data for all stocks\n",
        "data = {}\n",
        "for symbol in stocks:\n",
        "    df = yf.download(symbol, start=start_date.strftime('%Y-%m-%d'), end=end_date.strftime('%Y-%m-%d'))\n",
        "    df.dropna(inplace=True)\n",
        "    data[symbol] = df\n",
        "    print(f\"\\n{symbol} Data Preview:\")\n",
        "    display(df.head())"
      ],
      "execution_count": null,
      "outputs": []
    },
    {
      "cell_type": "markdown",
      "metadata": {},
      "source": [
        "### Explanation\n",
        "- **Stock Selection**: The stocks (`INFY.NS`: Infosys, `TCS.NS`: Tata Consultancy Services, `HDFCBANK.NS`: HDFC Bank) are major Indian companies, providing diverse market exposure.\n",
        "- **Data Storage**: The `data` dictionary stores each stock’s DataFrame, with multi-level columns (e.g., `Close`, `Volume`) indexed by date.\n",
        "- **Output**: The `display(df.head())` shows the first 5 rows of each stock’s data, confirming successful retrieval. For example, `INFY.NS` data includes columns like `Close`, `High`, `Low`, `Open`, and `Volume`.\n",
        "- **Note**: The `FutureWarning` about `yf.download`’s `auto_adjust` default suggests the library adjusts prices for splits/dividends, which is suitable for consistent analysis.\n"
      ]
    },
    {
      "cell_type": "markdown",
      "metadata": {},
      "source": [
        "## 3. Logistic Regression Model\n",
        "\n",
        "### Purpose\n",
        "This cell defines a function to train a Logistic Regression model for each stock to predict next-day price direction (up = 1, down = 0) using RSI, 20-DMA, 50-DMA, and Volume as features. It evaluates the model’s accuracy on a test set.\n",
        "\n",
        "### Key Concepts\n",
        "- **Logistic Regression**: A machine learning model for binary classification, predicting whether the next day’s price will increase (1) or decrease (0) based on historical features.\n",
        "- **Features**: \n",
        "  - **RSI (Relative Strength Index)**: Measures price momentum (0–100). Lower values indicate oversold conditions; higher values indicate overbought.\n",
        "  - **20-DMA, 50-DMA**: 20-day and 50-day moving averages smooth price data to identify trends.\n",
        "  - **Volume**: Trading volume reflects market activity.\n",
        "- **Target**: A binary variable (1 if next-day return > 0, else 0).\n",
        "- **Train-Test Split**: Uses 70% of data for training and 30% for testing (`test_size=0.3`, `shuffle=False` to preserve time-series order).\n",
        "- **Accuracy**: The proportion of correct predictions on the test set.\n",
        "\n",
        "### Original Code
      ]
    },
    {
      "cell_type": "code",
      "metadata": {
        "id": "EKDOQeIs74vy"
      },
      "source": [
        "from sklearn.model_selection import train_test_split\n",
        "from sklearn.linear_model import LogisticRegression\n",
        "from sklearn.metrics import accuracy_score\n",
        "\n",
        "def run_logistic_model_on_all(results):\n",
        "    print(\"ð��� Logistic Regression Prediction Accuracy:\\n\")\n",
        "\n",
        "    for symbol, data in results.items():\n",
        "        try:\n",
        "            df = data['signals'].copy()\n",
        "\n",
        "            # Prepare features and target\n",
        "            df[('Return', '')] = df[('Close', symbol)].pct_change().shift(-1)\n",
        "            df[('Target', '')] = (df[('Return', '')] > 0).astype(int)\n",
        "\n",
        "            # Drop NaNs\n",
        "            df = df.dropna(subset=[('RSI', ''), ('MA20', ''), ('MA50', ''), ('Volume', symbol), ('Target', '')])\n",
        "\n",
        "            X = df[[('RSI', ''), ('MA20', ''), ('MA50', ''), ('Volume', symbol)]]\n",
        "            y = df[('Target', '')]\n",
        "\n",
        "            # Split and fit model\n",
        "            X_train, X_test, y_train, y_test = train_test_split(X, y, test_size=0.3, shuffle=False)\n",
        "            model = LogisticRegression(max_iter=1000)\n",
        "            model.fit(X_train, y_train)\n",
        "\n",
        "            y_pred = model.predict(X_test)\n",
        "            acc = accuracy_score(y_test, y_pred)\n",
        "\n",
        "            print(f\"â�� {symbol}: Accuracy = {acc*100:.2f}%\")\n",
        "\n",
        "        except Exception as e:\n",
        "            print(f\"â�� {symbol}: Failed due to error: {e}\")"
      ],
      "execution_count": null,
      "outputs": []
    },
    {
      "cell_type": "markdown",
      "metadata": {},
      "source": [
        "### Explanation\n",
        "- **Input**: The `results` dictionary contains a `signals` DataFrame for each stock, assumed to include `Close`, `RSI`, `MA20`, `MA50`, and `Volume` columns (from `backtest_strategy`).\n",
        "- **Feature Engineering**:\n",
        "  - **Return**: Calculates the percentage change in `Close` price, shifted by -1 to align with the next day’s price.\n",
        "  - **Target**: Converts returns to binary (1 for positive, 0 for negative).\n",
        "- **Data Cleaning**: Drops rows with missing values in features or target to ensure model compatibility.\n",
        "- **Model Training**: Uses `scikit-learn`’s `LogisticRegression` with `max_iter=1000` to ensure convergence.\n",
        "- **Output**: Prints accuracy for each stock (e.g., `TCS.NS: Accuracy = 52.17%`).\n",
        "- **Error Handling**: Catches and reports errors (e.g., missing data or model failures).\n"
      ]
    },
    {
      "cell_type": "markdown",
      "metadata": {},
      "source": [
        "## 4. Running Logistic Regression\n",
        "\n",
        "### Purpose\n",
        "This cell executes the Logistic Regression function on the `results` dictionary, displaying prediction accuracies for each stock.\n",
        "\n",
        "### Original Code
      ]
    },
    {
      "cell_type": "code",
      "metadata": {
        "colab": {
          "base_uri": "https://localhost:8080/"
        },
        "id": "bskOXhXORxT9",
        "outputId": "949e55a9-aefc-4b18-ac00-c9e93a504b66"
      },
      "source": [
        "run_logistic_model_on_all(results)"
      ],
      "execution_count": null,
      "outputs": [
        {
          "output_type": "stream",
          "name": "stdout",
          "text": [
            "ð��� Logistic Regression Prediction Accuracy:\n",
            "\n",
            "â�� INFY.NS: Accuracy = 43.48%\n",
            "â�� TCS.NS: Accuracy = 52.17%\n",
            "â�� HDFCBANK.NS: Accuracy = 60.87%\n"
          ]
        }
      ]
    },
    {
      "cell_type": "markdown",
      "metadata": {},
      "source": [
        ### Explanation\n",
        "- **Output Analysis**: The accuracies (43.48% for `INFY.NS`, 52.17% for `TCS.NS`, 60.87% for `HDFCBANK.NS`) suggest moderate predictive power, with `HDFCBANK.NS` performing best. This may reflect stock-specific price patterns or data quality.\n",
        "- **Dependency**: Relies on the `results` dictionary being populated with `signals` DataFrames from `backtest_strategy`.\n",
        "- **Note**: Accuracies near 50% indicate the model may struggle to outperform random guessing, suggesting room for feature improvement (e.g., adding MACD).\n"
      ]
    },
    {
      "cell_type": "markdown",
      "metadata": {},
      "source": [
        "## 5. Decision Tree Model\n",
        "\n",
        "### Purpose\n",
        "This cell defines a function to train a Decision Tree Classifier for each stock, predicting next-day price direction using the same features as Logistic Regression. It evaluates accuracy on a test set.\n",
        "\n",
        "### Key Concepts\n",
        "- **Decision Tree**: A non-linear ML model that splits data based on feature thresholds, suitable for capturing complex patterns.\n",
        "- **Parameters**: `max_depth=4` limits tree depth to prevent overfitting; `random_state=42` ensures reproducibility.\n",
        "- **Same Features/Target**: Uses RSI, 20-DMA, 50-DMA, and Volume to predict binary price direction, like Logistic Regression.\n",
        "\n",
        "### Original Code
      ]
    },
    {
      "cell_type": "code",
      "metadata": {
        "id": "bZMWw6wU8Z8p"
      },
      "source": [
        "from sklearn.tree import DecisionTreeClassifier\n",
        "from sklearn.metrics import accuracy_score\n",
        "from sklearn.model_selection import train_test_split\n",
        "\n",
        "def run_decision_tree_model_on_all(results):\n",
        "    print(\"ð��³ Decision Tree Prediction Accuracy:\\n\")\n",
        "\n",
        "    for symbol, data in results.items():\n",
        "        try:\n",
        "            df = data['signals'].copy()\n",
        "\n",
        "            # Prepare return and target\n",
        "            df[('Return', '')] = df[('Close', symbol)].pct_change().shift(-1)\n",
        "            df[('Target', '')] = (df[('Return', '')] > 0).astype(int)\n",
        "\n",
        "            # Drop NaNs\n",
        "            df = df.dropna(subset=[('RSI', ''), ('MA20', ''), ('MA50', ''), ('Volume', symbol), ('Target', '')])\n",
        "\n",
        "            X = df[[('RSI', ''), ('MA20', ''), ('MA50', ''), ('Volume', symbol)]]\n",
        "            y = df[('Target', '')]\n",
        "\n",
        "            # Split into training and testing\n",
        "            X_train, X_test, y_train, y_test = train_test_split(X, y, test_size=0.3, shuffle=False)\n",
        "\n",
        "            # Train Decision Tree\n",
        "            dt_model = DecisionTreeClassifier(max_depth=4, random_state=42)\n",
        "            dt_model.fit(X_train, y_train)\n",
        "\n",
        "            y_pred = dt_model.predict(X_test)\n",
        "            acc = accuracy_score(y_test, y_pred)\n",
        "\n",
        "            print(f\"â�� {symbol}: Accuracy = {acc*100:.2f}%\")\n",
        "\n",
        "        except Exception as e:\n",
        "            print(f\"â�� {symbol}: Failed due to error: {e}\")"
      ],
      "execution_count": null,
      "outputs": []
    },
    {
      "cell_type": "markdown",
      "metadata": {},
      "source": [
        ### Explanation\n",
        "- **Similar Structure**: Mirrors the Logistic Regression function, using the same features and target but with a Decision Tree model.\n",
        "- **Model Choice**: Decision Trees can capture non-linear relationships, potentially outperforming Logistic Regression in some cases.\n",
        "- **Output**: Prints accuracy for each stock (e.g., `TCS.NS: Accuracy = 60.87%`).\n",
        "- **Error Handling**: Ensures robustness by catching errors (e.g., insufficient data).\n"
      ]
    },
    {
      "cell_type": "markdown",
      "metadata": {},
      "source": [
        "## 6. Running Decision Tree\n",
        "\n",
        "### Purpose\n",
        "This cell executes the Decision Tree function, displaying prediction accuracies.\n",
        "\n",
        ### Original Code
      ]
    },
    {
      "cell_type": "code",
      "metadata": {
        "colab": {
          "base_uri": "https://localhost:8080/"
        },
        "id": "GkOebJSaSH_e",
        "outputId": "95960094-bb21-4155-c90e-40ed12359a4c"
      },
      "source": [
        "run_decision_tree_model_on_all(results)"
      ],
      "execution_count": null,
      "outputs": [
        {
          "output_type": "stream",
          "name": "stdout",
          "text": [
            "ð��³ Decision Tree Prediction Accuracy:\n",
            "\n",
            "â�� INFY.NS: Accuracy = 47.83%\n",
            "â�� TCS.NS: Accuracy = 60.87%\n",
            "â�� HDFCBANK.NS: Accuracy = 39.13%\n"
          ]
        }
      ]
    },
    {
      "cell_type": "markdown",
      "metadata": {},
      "source": [
        ### Explanation\n",
        "- **Output Analysis**: Accuracies vary (47.83% for `INFY.NS`, 60.87% for `TCS.NS`, 39.13% for `HDFCBANK.NS`). The Decision Tree outperforms Logistic Regression for `TCS.NS` but underperforms for `HDFCBANK.NS`, suggesting stock-specific feature suitability.\n",
        "- **Note**: Low accuracies (e.g., 39.13%) indicate potential overfitting or insufficient features. Adding indicators like MACD could improve performance.\n"
      ]
    },
    {
      "cell_type": "markdown",
      "metadata": {},
      "source": [
        "## 7. Google Sheets Setup\n",
        "\n",
        "### Purpose\n",
        "This cell sets up authentication for Google Sheets using a service account, enabling logging of trade details and summaries.\n",
        "\n",
        "### Key Concepts\n",
        "- **Google Sheets API**: Allows programmatic access to Google Sheets for data logging.\n",
        "- **Service Account**: A JSON key file (`algotradingfree-key.json`) provides secure authentication.\n",
        "- **Scopes**: Define permissions for accessing Sheets and Drive APIs.\n",
        "\n",
        "### Original Code
      ]
    },
    {
      "cell_type": "code",
      "metadata": {
        "colab": {
          "base_uri": "https://localhost:8080/"
        },
        "id": "btro0fuH_d3W",
        "outputId": "38e99604-9b1f-4043-a3eb-3cd2ba0ac060"
      },
      "source": [
        "import gspread\n",
        "from oauth2client.service_account import ServiceAccountCredentials\n",
        "\n",
        "# Set up credentials\n",
        "scope = ['https://spreadsheets.google.com/feeds', 'https://www.googleapis.com/auth/drive']\n",
        "creds_path = 'algotradingfree-key.json'  # Make sure this matches your uploaded JSON file\n",
        "creds = ServiceAccountCredentials.from_json_keyfile_name(creds_path, scope)\n",
        "client = gspread.authorize(creds)\n",
        "\n",
        "# ð��¢ Open your sheet by correct name\n",
        "sheet = client.open(\"AlgoTradingResults\")  # â�� MATCHES your actual sheet\n",
        "print(\"â�� Connected to AlgoTradingResults\")"
      ],
      "execution_count": null,
      "outputs": []
    },
    {
      "cell_type": "markdown",
      "metadata": {},
      "source": [
        ### Explanation\n",
        "- **Authentication**: Loads credentials from `algotradingfree-key.json` and authorizes access using `gspread`.\n",
        "- **Sheet Access**: Opens the `AlgoTradingResults` spreadsheet, which must be shared with the service account email.\n",
        "- **Output**: Confirms connection with “Connected to AlgoTradingResults”.\n",
        "- **Note**: Ensure the JSON file is uploaded to the runtime environment (e.g., Colab) and the spreadsheet is accessible.\n"
      ]
    },
    {
      "cell_type": "markdown",
      "metadata": {},
      "source": [
        "## 8. Logging Trades to Google Sheets\n",
        "\n",
        ### Purpose\n",
        "This cell defines a function to log trade details for each stock to a dedicated Google Sheets tab (e.g., `INFY.NS_TRADES`).\n",
        "\n",
        "### Key Concepts\n",
        "- **Trade Data**: Includes `Buy Date`, `Buy Price`, `Sell Date`, `Sell Price`, `P&L`, and `Win` (True/False).\n",
        "- **Sheet Management**: Creates or clears a worksheet for each stock, ensuring clean updates.\n",
        "- **Data Cleaning**: Converts datetime to strings and handles `inf`/`NaN` values for compatibility with Google Sheets.\n",
        "\n",
        "### Original Code
      ]
    },
    {
      "cell_type": "code",
      "metadata": {
        "id": "28pOVehKCdbg"
      },
      "source": [
        "def log_trades_to_sheets(results, sheet, stock_symbol):\n",
        "    try:\n",
        "        sheet_name = f\"{stock_symbol}_TRADES\"\n",
        "        sheet_list = [ws.title for ws in sheet.worksheets()]\n",
        "\n",
        "        if sheet_name in sheet_list:\n",
        "            ws = sheet.worksheet(sheet_name)\n",
        "            ws.clear()\n",
        "        else:\n",
        "            ws = sheet.add_worksheet(title=sheet_name, rows=\"100\", cols=\"10\")\n",
        "\n",
        "        trades_df = results[stock_symbol]['trades']\n",
        "        if not trades_df.empty:\n",
        "            trades_df_clean = trades_df.copy()\n",
        "\n",
        "            # â�� 1. Convert datetime columns to strings\n",
        "            for col in trades_df_clean.columns:\n",
        "                if pd.api.types.is_datetime64_any_dtype(trades_df_clean[col]):\n",
        "                    trades_df_clean[col] = trades_df_clean[col].astype(str)\n",
        "\n",
        "            # â�� 2. Replace inf, -inf, NaN with None\n",
        "            trades_df_clean = trades_df_clean.replace([float('inf'), float('-inf')], None)\n",
        "            trades_df_clean = trades_df_clean.where(pd.notnull(trades_df_clean), None)\n",
        "\n",
        "            # â�� 3. Upload cleaned data\n",
        "            ws.update([trades_df_clean.columns.tolist()] + trades_df_clean.values.tolist())\n",
        "            print(f\"â�� Updated: {sheet_name}\")\n",
        "        else:\n",
        "            ws.update([[\"No trades found\"]])\n",
        "            print(f\"â� ï¸� No trades for: {stock_symbol} â�� empty sheet created\")\n",
        "\n",
        "    except Exception as e:\n",
        "        print(f\"â�� Error updating trades for {stock_symbol}: {e}\")"
      ],
      "execution_count": null,
      "outputs": []
    },
    {
      "cell_type": "markdown",
      "metadata": {},
      "source": [
        ### Explanation\n",
        "- **Function Logic**: Checks if a worksheet exists for the stock; if not, creates one. Clears existing data to avoid duplication.\n",
        "- **Data Preparation**: Converts datetime columns to strings and replaces problematic values (`inf`, `NaN`) with `None` for Google Sheets compatibility.\n",
        "- **Output**: Updates the worksheet with trade data and prints confirmation (e.g., “Updated: INFY.NS_TRADES”). If no trades, logs “No trades found”.\n",
        "- **Error Handling**: Catches issues like API errors or missing data.\n"
      ]
    },
    {
      "cell_type": "markdown",
      "metadata": {},
      "source": [
        "## 9. Logging Summary to Google Sheets\n",
        "\n",
        ### Purpose\n",
        "This cell defines a function to log portfolio summary metrics (Stock, Total Trades, Total P&L, Win Ratio) to a `SUMMARY` tab in Google Sheets.\n",
        "\n",
        ### Key Concepts\n",
        "- **Summary Metrics**:\n",
        "  - **Total Trades**: Number of completed trades.\n",
        "  - **Total P&L**: Sum of profit/loss across all trades.\n",
        "  - **Win Ratio**: Proportion of winning trades (`P&L > 0`).\n",
        "- **Sheet Management**: Similar to trade logging, creates or clears the `SUMMARY` tab.\n",
        "\n",
        ### Original Code
      ]
    },
    {
      "cell_type": "code",
      "metadata": {
        "id": "pqttriZ5Ar_D"
      },
      "source": [
        "def log_summary_to_sheets(results, sheet):\n",
        "    \"\"\"Logs overall trade summary to Google Sheet.\"\"\"\n",
        "    try:\n",
        "        summary_data = []\n",
        "\n",
        "        for symbol, res in results.items():\n",
        "            trades = res['trades']\n",
        "            if not trades.empty:\n",
        "                total_trades = len(trades)\n",
        "                total_pnl = trades['P&L'].sum()\n",
        "                win_ratio = trades['Win'].mean()\n",
        "                summary_data.append([symbol, total_trades, total_pnl, round(win_ratio, 2)])\n",
        "\n",
        "        sheet_list = [ws.title for ws in sheet.worksheets()]\n",
        "        if 'SUMMARY' in sheet_list:\n",
        "            ws = sheet.worksheet(\"SUMMARY\")\n",
        "            ws.clear()\n",
        "        else:\n",
        "            ws = sheet.add_worksheet(title=\"SUMMARY\", rows=\"50\", cols=\"10\")\n",
        "\n",
        "        if summary_data:\n",
        "            summary_df = pd.DataFrame(summary_data, columns=['Stock', 'Total Trades', 'Total P&L', 'Win Ratio'])\n",
        "            ws.update([summary_df.columns.tolist()] + summary_df.values.tolist())\n",
        "            print(\"â�� Updated: SUMMARY\")\n",
        "        else:\n",
        "            ws.update([[\"No summary available\"]])\n",
        "            print(\"â� ï¸� No trades to summarize â�� SUMMARY is empty\")\n",
        "\n",
        "    except Exception as e:\n",
        "        print(f\"â�� Error uploading summary: {e}\")"
      ],
      "execution_count": null,
      "outputs": []
    },
    {
      "cell_type": "markdown",
      "metadata": {},
      "source": [
        ### Explanation\n",
        "- **Function Logic**: Aggregates metrics from each stock’s `trades` DataFrame, computes summary statistics, and updates the `SUMMARY` tab.\n",
        "- **Output**: Prints confirmation (e.g., “Updated: SUMMARY”). If no trades, logs “No summary available”.\n",
        "- **Metrics**: Provides a concise overview of performance, useful for evaluating strategy effectiveness.\n",
        "- **Error Handling**: Handles API or data issues gracefully.\n"
      ]
    },
    {
      "cell_type": "markdown",
      "metadata": {},
      "source": [
        "## 10. Updating Google Sheets\n",
        "\n",
        ### Purpose\n",
        "This cell executes the trade and summary logging functions for all stocks.\n",
        "\n",
        ### Original Code
      ]
    },
    {
      "cell_type": "code",
      "metadata": {
        "colab": {
          "base_uri": "https://localhost:8080/"
        },
        "id": "GNEQkVh6Bg6F",
        "outputId": "f796689e-cb33-411d-f2ba-884f4a018084"
      },
      "source": [
        "# Update all trade sheets\n",
        "for symbol in results.keys():\n",
        "    log_trades_to_sheets(results, sheet, symbol)\n",
        "\n",
        "# Update the summary sheet\n",
        "log_summary_to_sheets(results, sheet)"
      ],
      "execution_count": null,
      "outputs": [
        {
          "output_type": "stream",
          "name": "stdout",
          "text": [
            "â�� Updated: INFY.NS_TRADES\n",
            "â�� Updated: TCS.NS_TRADES\n",
            "â�� Updated: HDFCBANK.NS_TRADES\n",
            "â�� Updated: SUMMARY\n"
          ]
        }
      ]
    },
    {
      "cell_type": "markdown",
      "metadata": {},
      "source": [
        ### Explanation\n",
        "- **Execution**: Loops through each stock in `results`, logging trades to respective tabs, then logs the summary.\n",
        "- **Output**: Confirms successful updates for each stock’s trade tab and the summary tab.\n",
        "- **Dependency**: Requires `results` to be populated with valid `trades` DataFrames.\n"
      ]
    },
    {
      "cell_type": "markdown",
      "metadata": {},
      "source": [
        "## 11. Main Algo Workflow\n",
        "\n",
        ### Purpose\n",
        "This cell defines the `run_algo` function, which orchestrates the entire trading workflow: data fetching, indicator calculation, backtesting, and logging.\n",
        "\n",
        "### Key Concepts\n",
        "- **Workflow**: Combines all components (data fetching, signal generation, backtesting, logging) into a single function.\n",
        "- **Modularity**: Uses previously defined functions for specific tasks.\n",
        "- **Assumptions**: Relies on `add_indicators_manual` and `backtest_strategy`, which are not provided but critical for generating signals and trades.\n",
        "\n",
        "### Original Code
      ]
    },
    {
      "cell_type": "code",
      "metadata": {
        "id": "wK0rbvPjCAn8"
      },
      "source": [
        "def run_algo(stock_symbols, sheet):\n",
        "    import yfinance as yf\n",
        "    import pandas as pd\n",
        "    from datetime import datetime, timedelta\n",
        "\n",
        "    print(\"ð��� Starting Algo-Trading Run...\\n\")\n",
        "    results = {}\n",
        "\n",
        "    # Date range: last 6 months\n",
        "    end_date = datetime.today()\n",
        "    start_date = end_date - timedelta(days=180)\n",
        "\n",
        "    for symbol in stock_symbols:\n",
        "        print(f\"ð��¦ Fetching: {symbol}\")\n",
        "        try:\n",
        "            df = yf.download(symbol, start=start_date.strftime('%Y-%m-%d'), end=end_date.strftime('%Y-%m-%d'))\n",
        "            df.dropna(inplace=True)\n",
        "\n",
        "            # Apply manual RSI + MA\n",
        "            df = add_indicators_manual(df)\n",
        "\n",
        "            # Backtest\n",
        "            signals_df, trades_df = backtest_strategy(df)\n",
        "\n",
        "            # Store\n",
        "            results[symbol] = {\n",
        "                'signals': signals_df,\n",
        "                'trades': trades_df\n",
        "            }\n",
        "\n",
        "            print(f\"â�� Done: {symbol} â�� {len(trades_df)} trades\")\n",
        "\n",
        "        except Exception as e:\n",
        "            print(f\"â�� Error with {symbol}: {e}\")\n",
        "\n",
        "    print(\"\\nð��¤ Logging results to Google Sheets...\\n\")\n",
        "\n",
        "    for symbol in results:\n",
        "        log_trades_to_sheets(results, sheet, symbol)\n",
        "\n",
        "    log_summary_to_sheets(results, sheet)\n",
        "\n",
        "    print(\"\\nð��� Algo Run Complete. Sheets Updated.\\n\")"
      ],
      "execution_count": null,
      "outputs": []
    },
    {
      "cell_type": "markdown",
      "metadata": {},
      "source": [
        ### Explanation\n",
        "- **Workflow**:\n",
        "  - Fetches data for each stock (similar to Cell 2).\n",
        "  - Applies `add_indicators_manual` to compute RSI, 20-DMA, and 50-DMA.\n",
        "  - Runs `backtest_strategy` to generate signals and trades.\n",
        "  - Stores results in a dictionary with `signals` and `trades` DataFrames.\n",
        "  - Logs results to Google Sheets using previously defined functions.\n",
        "- **Output**: Prints progress (e.g., “Fetching: INFY.NS”, “Done: INFY.NS – 2 trades”) and confirms Sheets updates.\n",
        "- **Note**: The missing functions (`add_indicators_manual`, `backtest_strategy`) are critical. Their assumed functionality is described below.\n"
      ]
    },
    {
      "cell_type": "markdown",
      "metadata": {},
      "source": [
        "## 12. Running the Full Algo\n",
        "\n",
        ### Purpose\n",
        "This cell executes the `run_algo` function with the specified stock list, running the entire trading system.\n",
        "\n",
        ### Original Code
      ]
    },
    {
      "cell_type": "code",
      "metadata": {
        "colab": {
          "base_uri": "https://localhost:8080/"
        },
        "id": "z-aKGYljKLSG",
        "outputId": "b827830c-57c6-471e-e172-88db279a999a"
      },
      "source": [
        "stock_list = ['INFY.NS','TCS.NS', 'HDFCBANK.NS']\n",
        "run_algo(stock_list, sheet)"
      ],
      "execution_count": null,
      "outputs": [
        {
          "output_type": "stream",
          "name": "stdout",
          "text": [
            "ð��� Starting Algo-Trading Run...\n",
            "\n",
            "ð��¦ Fetching: INFY.NS\n",
            "â�� Done: INFY.NS â�� 2 trades\n",
            "ð��¦ Fetching: TCS.NS\n",
            "â�� Done: TCS.NS â�� 2 trades\n",
            "ð��¦ Fetching: HDFCBANK.NS\n",
            "â�� Done: HDFCBANK.NS â�� 1 trades\n",
            "\n",
            "ð��¤ Logging results to Google Sheets...\n",
            "\n",
            "â�� Updated: INFY.NS_TRADES\n",
            "â�� Updated: TCS.NS_TRADES\n",
            "â�� Updated: HDFCBANK.NS_TRADES\n",
            "â�� Updated: SUMMARY\n",
            "\n",
            "ð��� Algo Run Complete. Sheets Updated.\n",
            "\n"
          ]
        }
      ]
    },
    {
      "cell_type": "markdown",
      "metadata": {},
      "source": [
        ### Explanation\n",
        "- **Execution**: Runs the full workflow for the specified stocks, producing trades and logging results.\n",
        "- **Output Analysis**:\n",
        "  - **Trades**: 2 for `INFY.NS`, 2 for `TCS.NS`, 1 for `HDFCBANK.NS`, indicating the strategy generated sparse but actionable signals.\n",
        "  - **Sheets Updates**: Confirms all trade and summary tabs were updated.\n",
        "- **Note**: The success of this cell depends on the missing functions and the `results` dictionary being correctly populated.\n"
      ]
    },
    {
      "cell_type": "markdown",
      "metadata": {},
      "source": [
        "## 13. Missing Functions: Suggested Implementations\n",
        "\n",
        "### Overview\n",
        "The original notebook references two missing functions: `add_indicators_manual` and `backtest_strategy`. These are critical for generating technical indicators and trade signals. Below, we provide suggested implementations to complete the system, without modifying the original code. These are included as separate cells for clarity and can be integrated into a production environment.\n",
        "\n",
        "### 13.1 Suggested `add_indicators_manual`\n",
        "\n",
        "#### Purpose\n",
        "This function computes technical indicators (RSI, 20-DMA, 50-DMA) for a stock’s DataFrame, preparing it for signal generation and ML training.\n",
        "\n",
        "#### Suggested Code
      ]
    },
    {
      "cell_type": "code",
      "metadata": {},
      "source": [
        "import pandas as pd\n",
        "\n",
        "def add_indicators_manual(df):\n",
        "    \"\"\"Add RSI, 20-DMA, and 50-DMA to the DataFrame.\"\"\"\n",
        "    # Copy DataFrame to avoid modifying the original\n",
        "    df = df.copy()\n",
        "\n",
        "    # Calculate RSI (14-period)\n",
        "    delta = df['Close'].diff()\n",
        "    gain = delta.where(delta > 0, 0)\n",
        "    loss = -delta.where(delta < 0, 0)\n",
        "    avg_gain = gain.rolling(window=14).mean()\n",
        "    avg_loss = loss.rolling(window=14).mean()\n",
        "    rs = avg_gain / avg_loss.replace(0, 1e-10)  # Avoid division by zero\n",
        "    df['RSI'] = 100 - (100 / (1 + rs))\n",
        "\n",
        "    # Calculate 20-DMA and 50-DMA\n",
        "    df['MA20'] = df['Close'].rolling(window=20).mean()\n",
        "    df['MA50'] = df['Close'].rolling(window=50).mean()\n",
        "\n",
        "    # Drop rows with NaN values from rolling calculations\n",
        "    df = df.dropna()\n",
        "\n",
        "    # Ensure multi-level column compatibility\n",
        "    df.columns = pd.MultiIndex.from_product([df.columns, ['']])\n",
        "    return df"
      ],
      "execution_count": null,
      "outputs": []
    },
    {
      "cell_type": "markdown",
      "metadata": {},
      "source": [
        "#### Explanation\n",
        "- **RSI Calculation**: Uses a 14-period RSI, computing gains and losses, averaging over 14 days, and applying the RSI formula: `100 - (100 / (1 + RS))`.\n",
        "- **Moving Averages**: Calculates 20-day and 50-day simple moving averages using `rolling`.\n",
        "- **Data Cleaning**: Drops NaN values caused by rolling windows.\n",
        "- **Column Structure**: Converts columns to a multi-level index to match the expected format in `run_logistic_model_on_all` and `run_decision_tree_model_on_all`.\n",
        "- **Note**: The `replace(0, 1e-10)` avoids division by zero in RSI calculation, improving robustness.\n"
      ]
    },
    {
      "cell_type": "markdown",
      "metadata": {},
      "source": [
        "### 13.2 Suggested `backtest_strategy`\n",
        "\n",
        "#### Purpose\n",
        "This function implements the rule-based strategy (buy: RSI < 30 and 20-DMA > 50-DMA; sell: RSI > 70 or 20-DMA < 50-DMA) and generates a trade log.\n",
        "\n",
        "#### Suggested Code
      ]
    },
    {
      "cell_type": "code",
      "metadata": {},
      "source": [
        "def backtest_strategy(df):\n",
        "    \"\"\"Backtest the trading strategy and return signals and trades DataFrames.\"\"\"\n",
        "    # Copy DataFrame\n",
        "    signals_df = df.copy()\n",
        "\n",
        "    # Initialize signal and position columns\n",
        "    signals_df[('Signal', '')] = 0  # 1 for buy, -1 for sell\n",
        "    signals_df[('Position', '')] = 0  # 1 for holding, 0 for no position\n",
        "\n",
        "    # Generate signals\n",
        "    for i in range(1, len(signals_df)):\n",
        "        rsi = signals_df[('RSI', '')].iloc[i]\n",
        "        ma20 = signals_df[('MA20', '')].iloc[i]\n",
        "        ma50 = signals_df[('MA50', '')].iloc[i]\n",
        "\n",
        "        # Buy: RSI < 30 and MA20 > MA50\n",
        "        if rsi < 30 and ma20 > ma50:\n",
        "            signals_df[('Signal', '')].iloc[i] = 1\n",
        "        # Sell: RSI > 70 or MA20 < MA50\n",
        "        elif rsi > 70 or ma20 < ma50:\n",
        "            signals_df[('Signal', '')].iloc[i] = -1\n",
        "\n",
        "        # Update position\n",
        "        if signals_df[('Signal', '')].iloc[i] == 1:\n",
        "            signals_df[('Position', '')].iloc[i] = 1\n",
        "        elif signals_df[('Signal', '')].iloc[i] == -1:\n",
        "            signals_df[('Position', '')].iloc[i] = 0\n",
        "        else:\n",
        "            signals_df[('Position', '')].iloc[i] = signals_df[('Position', '')].iloc[i-1]\n",
        "\n",
        "    # Generate trades\n",
        "    trades = []\n",
        "    position = 0\n",
        "    buy_price = 0\n",
        "    buy_date = None\n",
        "\n",
        "    for i in range(len(signals_df)):\n",
        "        if signals_df[('Signal', '')].iloc[i] == 1 and position == 0:\n",
        "            buy_price = signals_df[('Close', '')].iloc[i]\n",
        "            buy_date = signals_df.index[i]\n",
        "            position = 1\n",
        "        elif signals_df[('Signal', '')].iloc[i] == -1 and position == 1:\n",
        "            sell_price = signals_df[('Close', '')].iloc[i]\n",
        "            sell_date = signals_df.index[i]\n",
        "            pl = sell_price - buy_price\n",
        "            trades.append({\n",
        "                'Buy Date': buy_date,\n",
        "                'Buy Price': buy_price,\n",
        "                'Sell Date': sell_date,\n",
        "                'Sell Price': sell_price,\n",
        "                'P&L': pl,\n",
        "                'Win': pl > 0\n",
        "            })\n",
        "            position = 0\n",
        "\n",
        "    trades_df = pd.DataFrame(trades)\n",
        "    return signals_df, trades_df"
      ],
      "execution_count": null,
      "outputs": []
    },
    {
      "cell_type": "markdown",
      "metadata": {},
      "source": [
        "#### Explanation\n",
        "- **Signals**: Adds `Signal` (1 for buy, -1 for sell) and `Position` (1 for holding, 0 for no position) columns based on the strategy rules.\n",
        "- **Backtesting**: Iterates through the DataFrame, generating buy/sell signals and tracking positions. Trades are logged when a position is closed (sell after buy).\n",
        "- **Trade Log**: Creates a DataFrame with `Buy Date`, `Buy Price`, `Sell Date`, `Sell Price`, `P&L`, and `Win`, matching the format seen in Cell 2’s output.\n",
        "- **Note**: Assumes single-position trading (no overlapping trades) and uses `Close` prices for simplicity.\n"
      ]
    },
    {
      "cell_type": "markdown",
      "metadata": {},
      "source": [
        "## 14. Future Improvements\n",
        "\n",
        "### Potential Enhancements\n",
        "- **Additional Indicators**: Add MACD or Bollinger Bands as ML features to improve prediction accuracy.\n",
        "- **Advanced Analytics**: Compute metrics like average P&L, max profit/loss, Sharpe ratio, and max drawdown in the summary.\n",
        "- **Telegram Notifications**: Implement the `python-telegram-bot` library to send real-time trade alerts.\n",
        "- **Visualization**: Use `matplotlib` to plot price trends, signals, and P&L curves.\n",
        "- **Testing**: Add unit tests with `pytest` to validate indicators and strategy logic.\n",
        "- **Real-Time Execution**: Schedule daily runs using a library like `schedule`.\n",
        "- **Transaction Costs**: Include brokerage fees and slippage in backtesting for realistic P&L.\n",
        "\n",
        "## 15. Conclusion\n",
        "\n",
        "This notebook provides a robust foundation for an algo-trading system, combining rule-based trading, ML predictions, and Google Sheets logging. While the core functionality is implemented, the missing `add_indicators_manual` and `backtest_strategy` functions are critical for full operation. The suggested implementations above complete the system, and the detailed explanations aim to make the code accessible to learners and practitioners. Future enhancements can make the system production-ready for real-time trading.\n"
      ]
    }
  ]
}